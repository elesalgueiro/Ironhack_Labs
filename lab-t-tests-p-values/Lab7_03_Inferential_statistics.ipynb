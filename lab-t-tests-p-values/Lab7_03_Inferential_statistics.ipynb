{
 "cells": [
  {
   "cell_type": "markdown",
   "id": "sporting-quick",
   "metadata": {},
   "source": [
    "# Lab | Inferential statistics - T-test & P-value"
   ]
  },
  {
   "cell_type": "markdown",
   "id": "joined-athletics",
   "metadata": {},
   "source": [
    "## 1. One tailed t-test - \n",
    "\n",
    "In a packing plant, a machine packs cartons with jars. It is supposed that a new machine will pack faster on the average than the machine currently used. To test that hypothesis, the times it takes each machine to pack ten cartons are recorded. The results, in seconds, are shown in the tables in the file files_for_lab/machine.txt. Assume that there is sufficient evidence to conduct the t test, does the data provide sufficient evidence to show if one machine is better than the other?"
   ]
  },
  {
   "cell_type": "code",
   "execution_count": 24,
   "id": "quality-doctor",
   "metadata": {},
   "outputs": [],
   "source": [
    "import pandas as pd\n",
    "import numpy as np\n",
    "import scipy.stats as st\n",
    "import matplotlib.pyplot as plt\n",
    "import seaborn as sns"
   ]
  },
  {
   "cell_type": "code",
   "execution_count": 25,
   "id": "thorough-hamilton",
   "metadata": {},
   "outputs": [],
   "source": [
    "# data = pd.read_csv (r'C:\\Users\\Elena\\Documents\\IRONHACK\\WEEK7\\LABS\\lab-t-tests-p-values\\files_for_lab\\machine.txt',sep=\" \",header = None)\n",
    "# print (data)"
   ]
  },
  {
   "cell_type": "code",
   "execution_count": 26,
   "id": "limited-default",
   "metadata": {},
   "outputs": [],
   "source": [
    "new_machine = [42.1,41,41.3,41.8,42.4,42.8,43.2,42.3,41.8,42.7]\n",
    "old_machine = [42.7,43.6,43.8,43.3,42.5,43.5,43.1,41.7,44,44.1]"
   ]
  },
  {
   "cell_type": "code",
   "execution_count": 27,
   "id": "sixth-arabic",
   "metadata": {},
   "outputs": [
    {
     "data": {
      "text/html": [
       "<div>\n",
       "<style scoped>\n",
       "    .dataframe tbody tr th:only-of-type {\n",
       "        vertical-align: middle;\n",
       "    }\n",
       "\n",
       "    .dataframe tbody tr th {\n",
       "        vertical-align: top;\n",
       "    }\n",
       "\n",
       "    .dataframe thead th {\n",
       "        text-align: right;\n",
       "    }\n",
       "</style>\n",
       "<table border=\"1\" class=\"dataframe\">\n",
       "  <thead>\n",
       "    <tr style=\"text-align: right;\">\n",
       "      <th></th>\n",
       "      <th>new_machine</th>\n",
       "      <th>old_machine</th>\n",
       "    </tr>\n",
       "  </thead>\n",
       "  <tbody>\n",
       "    <tr>\n",
       "      <th>0</th>\n",
       "      <td>42.1</td>\n",
       "      <td>42.7</td>\n",
       "    </tr>\n",
       "    <tr>\n",
       "      <th>1</th>\n",
       "      <td>41.0</td>\n",
       "      <td>43.6</td>\n",
       "    </tr>\n",
       "    <tr>\n",
       "      <th>2</th>\n",
       "      <td>41.3</td>\n",
       "      <td>43.8</td>\n",
       "    </tr>\n",
       "    <tr>\n",
       "      <th>3</th>\n",
       "      <td>41.8</td>\n",
       "      <td>43.3</td>\n",
       "    </tr>\n",
       "    <tr>\n",
       "      <th>4</th>\n",
       "      <td>42.4</td>\n",
       "      <td>42.5</td>\n",
       "    </tr>\n",
       "    <tr>\n",
       "      <th>5</th>\n",
       "      <td>42.8</td>\n",
       "      <td>43.5</td>\n",
       "    </tr>\n",
       "    <tr>\n",
       "      <th>6</th>\n",
       "      <td>43.2</td>\n",
       "      <td>43.1</td>\n",
       "    </tr>\n",
       "    <tr>\n",
       "      <th>7</th>\n",
       "      <td>42.3</td>\n",
       "      <td>41.7</td>\n",
       "    </tr>\n",
       "    <tr>\n",
       "      <th>8</th>\n",
       "      <td>41.8</td>\n",
       "      <td>44.0</td>\n",
       "    </tr>\n",
       "    <tr>\n",
       "      <th>9</th>\n",
       "      <td>42.7</td>\n",
       "      <td>44.1</td>\n",
       "    </tr>\n",
       "  </tbody>\n",
       "</table>\n",
       "</div>"
      ],
      "text/plain": [
       "   new_machine  old_machine\n",
       "0         42.1         42.7\n",
       "1         41.0         43.6\n",
       "2         41.3         43.8\n",
       "3         41.8         43.3\n",
       "4         42.4         42.5\n",
       "5         42.8         43.5\n",
       "6         43.2         43.1\n",
       "7         42.3         41.7\n",
       "8         41.8         44.0\n",
       "9         42.7         44.1"
      ]
     },
     "execution_count": 27,
     "metadata": {},
     "output_type": "execute_result"
    }
   ],
   "source": [
    "data = pd.DataFrame({\"new_machine\":new_machine,\"old_machine\":old_machine})\n",
    "data.head(10)"
   ]
  },
  {
   "cell_type": "code",
   "execution_count": 28,
   "id": "quality-funds",
   "metadata": {},
   "outputs": [],
   "source": [
    "#One-tailed"
   ]
  },
  {
   "cell_type": "markdown",
   "id": "recreational-maximum",
   "metadata": {},
   "source": [
    "**Setting our hypotesis:** new machine will pack faster on the average than the machine currently used\n",
    "\n",
    "* H₀: mu_NEW>mu_OLD  VS  h1: mu_NEW<mu_OLD  -------> H₀: 𝛍≥k vs H₁: 𝛍<k --- k= 43,23 ( old_machine average speed)\n",
    "                              \n",
    "It is reasnoble to say that the average speed of new_machine is grater to 43,23 seconds?"
   ]
  },
  {
   "cell_type": "code",
   "execution_count": 29,
   "id": "dated-marathon",
   "metadata": {},
   "outputs": [
    {
     "data": {
      "text/plain": [
       "Ttest_indResult(statistic=-3.397230706117603, pvalue=0.0032422494663179747)"
      ]
     },
     "execution_count": 29,
     "metadata": {},
     "output_type": "execute_result"
    }
   ],
   "source": [
    "st.ttest_ind(data['new_machine'], data['old_machine'], equal_var=False) # if we don't assume equal variance the test will be more robust\n",
    "\n"
   ]
  },
  {
   "cell_type": "code",
   "execution_count": 30,
   "id": "forced-empire",
   "metadata": {},
   "outputs": [
    {
     "name": "stdout",
     "output_type": "stream",
     "text": [
      "p value (single tailed): 0.0016211247331589873\n"
     ]
    }
   ],
   "source": [
    "#for the single tailed experiment\n",
    "print('p value (single tailed):',st.ttest_ind(data['new_machine'], data['old_machine'], equal_var=False,)[1]/2)"
   ]
  },
  {
   "cell_type": "markdown",
   "id": "outstanding-portfolio",
   "metadata": {},
   "source": [
    "**INTERPRETATION**\n",
    "\n",
    "* First let´s check the **p value**(single tailed):is less than my significance level (5%) so I could reject the null H. \n",
    "\n",
    "* Let´s check the **statistic**: is -5,04 , it is negative so we can provide evidence to reject our null hypotesis. \n",
    "\n",
    "#Negative statistic means \\mu_after-\\mu_before < 0   ---->  \\mu_after < \\mu_before\n",
    "\n",
    "#your statistics must have the same sign as the Hypotesis you are tring to prove.\n",
    "\n",
    "**We can conclude that the new machine is not faster in average than the old one** \n"
   ]
  },
  {
   "cell_type": "markdown",
   "id": "exact-likelihood",
   "metadata": {},
   "source": [
    "### 2.Matched Pairs Test - \n",
    "\n",
    "In this challenge we will compare dependent samples of data describing our Pokemon (file files_for_lab/pokemon.csv). \n",
    "\n",
    "Our goal is to see whether there is a significant difference between each Pokemon's defense and attack scores. \n",
    "\n",
    "Our hypothesis is that the defense and attack scores are equal. Compare the two columns to see if there is a statistically significant difference between them and comment your result."
   ]
  },
  {
   "cell_type": "code",
   "execution_count": 31,
   "id": "assumed-certificate",
   "metadata": {},
   "outputs": [
    {
     "data": {
      "text/html": [
       "<div>\n",
       "<style scoped>\n",
       "    .dataframe tbody tr th:only-of-type {\n",
       "        vertical-align: middle;\n",
       "    }\n",
       "\n",
       "    .dataframe tbody tr th {\n",
       "        vertical-align: top;\n",
       "    }\n",
       "\n",
       "    .dataframe thead th {\n",
       "        text-align: right;\n",
       "    }\n",
       "</style>\n",
       "<table border=\"1\" class=\"dataframe\">\n",
       "  <thead>\n",
       "    <tr style=\"text-align: right;\">\n",
       "      <th></th>\n",
       "      <th>#</th>\n",
       "      <th>Name</th>\n",
       "      <th>Type 1</th>\n",
       "      <th>Type 2</th>\n",
       "      <th>Total</th>\n",
       "      <th>HP</th>\n",
       "      <th>Attack</th>\n",
       "      <th>Defense</th>\n",
       "      <th>Sp. Atk</th>\n",
       "      <th>Sp. Def</th>\n",
       "      <th>Speed</th>\n",
       "      <th>Generation</th>\n",
       "      <th>Legendary</th>\n",
       "    </tr>\n",
       "  </thead>\n",
       "  <tbody>\n",
       "    <tr>\n",
       "      <th>0</th>\n",
       "      <td>1</td>\n",
       "      <td>Bulbasaur</td>\n",
       "      <td>Grass</td>\n",
       "      <td>Poison</td>\n",
       "      <td>318</td>\n",
       "      <td>45</td>\n",
       "      <td>49</td>\n",
       "      <td>49</td>\n",
       "      <td>65</td>\n",
       "      <td>65</td>\n",
       "      <td>45</td>\n",
       "      <td>1</td>\n",
       "      <td>False</td>\n",
       "    </tr>\n",
       "    <tr>\n",
       "      <th>1</th>\n",
       "      <td>2</td>\n",
       "      <td>Ivysaur</td>\n",
       "      <td>Grass</td>\n",
       "      <td>Poison</td>\n",
       "      <td>405</td>\n",
       "      <td>60</td>\n",
       "      <td>62</td>\n",
       "      <td>63</td>\n",
       "      <td>80</td>\n",
       "      <td>80</td>\n",
       "      <td>60</td>\n",
       "      <td>1</td>\n",
       "      <td>False</td>\n",
       "    </tr>\n",
       "    <tr>\n",
       "      <th>2</th>\n",
       "      <td>3</td>\n",
       "      <td>Venusaur</td>\n",
       "      <td>Grass</td>\n",
       "      <td>Poison</td>\n",
       "      <td>525</td>\n",
       "      <td>80</td>\n",
       "      <td>82</td>\n",
       "      <td>83</td>\n",
       "      <td>100</td>\n",
       "      <td>100</td>\n",
       "      <td>80</td>\n",
       "      <td>1</td>\n",
       "      <td>False</td>\n",
       "    </tr>\n",
       "    <tr>\n",
       "      <th>3</th>\n",
       "      <td>3</td>\n",
       "      <td>VenusaurMega Venusaur</td>\n",
       "      <td>Grass</td>\n",
       "      <td>Poison</td>\n",
       "      <td>625</td>\n",
       "      <td>80</td>\n",
       "      <td>100</td>\n",
       "      <td>123</td>\n",
       "      <td>122</td>\n",
       "      <td>120</td>\n",
       "      <td>80</td>\n",
       "      <td>1</td>\n",
       "      <td>False</td>\n",
       "    </tr>\n",
       "    <tr>\n",
       "      <th>4</th>\n",
       "      <td>4</td>\n",
       "      <td>Charmander</td>\n",
       "      <td>Fire</td>\n",
       "      <td>NaN</td>\n",
       "      <td>309</td>\n",
       "      <td>39</td>\n",
       "      <td>52</td>\n",
       "      <td>43</td>\n",
       "      <td>60</td>\n",
       "      <td>50</td>\n",
       "      <td>65</td>\n",
       "      <td>1</td>\n",
       "      <td>False</td>\n",
       "    </tr>\n",
       "  </tbody>\n",
       "</table>\n",
       "</div>"
      ],
      "text/plain": [
       "   #                   Name Type 1  Type 2  Total  HP  Attack  Defense  \\\n",
       "0  1              Bulbasaur  Grass  Poison    318  45      49       49   \n",
       "1  2                Ivysaur  Grass  Poison    405  60      62       63   \n",
       "2  3               Venusaur  Grass  Poison    525  80      82       83   \n",
       "3  3  VenusaurMega Venusaur  Grass  Poison    625  80     100      123   \n",
       "4  4             Charmander   Fire     NaN    309  39      52       43   \n",
       "\n",
       "   Sp. Atk  Sp. Def  Speed  Generation  Legendary  \n",
       "0       65       65     45           1      False  \n",
       "1       80       80     60           1      False  \n",
       "2      100      100     80           1      False  \n",
       "3      122      120     80           1      False  \n",
       "4       60       50     65           1      False  "
      ]
     },
     "execution_count": 31,
     "metadata": {},
     "output_type": "execute_result"
    }
   ],
   "source": [
    "data = pd.read_csv (r'C:\\Users\\Elena\\Documents\\IRONHACK\\WEEK7\\LABS\\lab-t-tests-p-values\\files_for_lab\\pokemon.csv')\n",
    "data.head()"
   ]
  },
  {
   "cell_type": "markdown",
   "id": "loved-investment",
   "metadata": {},
   "source": [
    "**Setting our hypotesis:** defense and attack scores are equal\n",
    "\n",
    " *  H₀: mu_D=mu_A  VS  h1: mu_D#mu_A------> H₀: 𝛍₁=𝛍₂ vs H₁: 𝛍₁≠𝛍₂\n",
    "\n",
    "Data in the two samples is dependent, is the same Pokemon Type. MATCHED PAIR"
   ]
  },
  {
   "cell_type": "code",
   "execution_count": 32,
   "id": "applicable-premises",
   "metadata": {},
   "outputs": [
    {
     "data": {
      "text/plain": [
       "Ttest_relResult(statistic=4.325566393330478, pvalue=1.7140303479358558e-05)"
      ]
     },
     "execution_count": 32,
     "metadata": {},
     "output_type": "execute_result"
    }
   ],
   "source": [
    "#H₀: 𝛍₁=𝛍₂ vs H₁: 𝛍₁≠𝛍₂\n",
    "st.ttest_rel(data['Attack'], data['Defense'])"
   ]
  },
  {
   "cell_type": "markdown",
   "id": "hungry-electronics",
   "metadata": {},
   "source": [
    "**INTERPRETATION**\n",
    "\n",
    "First let´s check the **p value**:is very much less than my significance level (5%) so I could reject the null H.\n",
    "(it is a double sided test so we don´t need to check the stadistic to set our final conclusion). \n",
    "\n",
    "#Negative statistic means \\mu_attack-\\mu_defense < 0 ----> \\mu_atack < \\mu_defense\n",
    "\n",
    "**We can conclude that Attack and Defense are very dependent**\n",
    "\n",
    "#Negative statistic means \\mu_attack-\\mu_defense < 0 ----> \\mu_atack < \\mu_defense"
   ]
  },
  {
   "cell_type": "markdown",
   "id": "polished-probe",
   "metadata": {},
   "source": [
    "## OPTIONAL PART | Inferential statistics - ANOVA"
   ]
  },
  {
   "cell_type": "markdown",
   "id": "upset-correlation",
   "metadata": {},
   "source": [
    "## Part 1\n",
    "\n",
    "In this activity, we will look at another example. Your task is to understand the problem and write down all the steps to set up ANOVA. After the next lesson, we will ask you to solve this problem using Python. Here are the steps that you would need to work on: - Null hypothesis - Alternate hypothesis - Level of significance - Test statistic - P-value - F table\n",
    "\n",
    "### Context\n",
    "\n",
    "Suppose you are working as an analyst in a microprocessor chip manufacturing plant. You have been given the task of analyzing a plasma etching process with respect to changing Power (in Watts) of the plasma beam. Data was collected and provided to you to conduct statistical analysis and check if changing the power of the plasma beam has any effect on the etching rate by the machine. You will conduct ANOVA and check if there is any difference in the mean etching rate for different levels of power. You can find the data anova_lab_data.xlsx file in the files_for_lab folder\n",
    "\n",
    "* State the null hypothesis\n",
    "* State the alternate hypothesis\n",
    "* What is the significance level\n",
    "* What are the degrees of freedom of model, error terms, and total DoF\n",
    "\n",
    "Data was collected randomly and provided to you in the table as shown:\n",
    "\n",
    "[link to image -Data](https://education-team-2020.s3-eu-west-1.amazonaws.com/data-analytics/7.05/7.05-lab_data.png)"
   ]
  },
  {
   "cell_type": "code",
   "execution_count": 33,
   "id": "rental-citizenship",
   "metadata": {},
   "outputs": [],
   "source": [
    "#check if changing the power of the plasma beam has any effect on the etching rate by the machine(watts)\n",
    "\n",
    "#there is any difference in the mean etching rate for different levels of power"
   ]
  },
  {
   "cell_type": "code",
   "execution_count": 34,
   "id": "exempt-joint",
   "metadata": {},
   "outputs": [
    {
     "data": {
      "text/html": [
       "<div>\n",
       "<style scoped>\n",
       "    .dataframe tbody tr th:only-of-type {\n",
       "        vertical-align: middle;\n",
       "    }\n",
       "\n",
       "    .dataframe tbody tr th {\n",
       "        vertical-align: top;\n",
       "    }\n",
       "\n",
       "    .dataframe thead th {\n",
       "        text-align: right;\n",
       "    }\n",
       "</style>\n",
       "<table border=\"1\" class=\"dataframe\">\n",
       "  <thead>\n",
       "    <tr style=\"text-align: right;\">\n",
       "      <th></th>\n",
       "      <th>Power</th>\n",
       "      <th>Etching Rate</th>\n",
       "    </tr>\n",
       "  </thead>\n",
       "  <tbody>\n",
       "    <tr>\n",
       "      <th>0</th>\n",
       "      <td>160 W</td>\n",
       "      <td>5.43</td>\n",
       "    </tr>\n",
       "    <tr>\n",
       "      <th>1</th>\n",
       "      <td>180 W</td>\n",
       "      <td>6.24</td>\n",
       "    </tr>\n",
       "    <tr>\n",
       "      <th>2</th>\n",
       "      <td>200 W</td>\n",
       "      <td>8.79</td>\n",
       "    </tr>\n",
       "    <tr>\n",
       "      <th>3</th>\n",
       "      <td>160 W</td>\n",
       "      <td>5.71</td>\n",
       "    </tr>\n",
       "    <tr>\n",
       "      <th>4</th>\n",
       "      <td>180 W</td>\n",
       "      <td>6.71</td>\n",
       "    </tr>\n",
       "    <tr>\n",
       "      <th>5</th>\n",
       "      <td>200 W</td>\n",
       "      <td>9.20</td>\n",
       "    </tr>\n",
       "    <tr>\n",
       "      <th>6</th>\n",
       "      <td>160 W</td>\n",
       "      <td>6.22</td>\n",
       "    </tr>\n",
       "    <tr>\n",
       "      <th>7</th>\n",
       "      <td>180 W</td>\n",
       "      <td>5.98</td>\n",
       "    </tr>\n",
       "    <tr>\n",
       "      <th>8</th>\n",
       "      <td>200 W</td>\n",
       "      <td>7.90</td>\n",
       "    </tr>\n",
       "    <tr>\n",
       "      <th>9</th>\n",
       "      <td>160 W</td>\n",
       "      <td>6.01</td>\n",
       "    </tr>\n",
       "    <tr>\n",
       "      <th>10</th>\n",
       "      <td>180 W</td>\n",
       "      <td>5.66</td>\n",
       "    </tr>\n",
       "    <tr>\n",
       "      <th>11</th>\n",
       "      <td>200 W</td>\n",
       "      <td>8.15</td>\n",
       "    </tr>\n",
       "    <tr>\n",
       "      <th>12</th>\n",
       "      <td>160 W</td>\n",
       "      <td>5.59</td>\n",
       "    </tr>\n",
       "    <tr>\n",
       "      <th>13</th>\n",
       "      <td>180 W</td>\n",
       "      <td>6.60</td>\n",
       "    </tr>\n",
       "    <tr>\n",
       "      <th>14</th>\n",
       "      <td>200 W</td>\n",
       "      <td>7.55</td>\n",
       "    </tr>\n",
       "  </tbody>\n",
       "</table>\n",
       "</div>"
      ],
      "text/plain": [
       "   Power   Etching Rate\n",
       "0   160 W          5.43\n",
       "1   180 W          6.24\n",
       "2   200 W          8.79\n",
       "3   160 W          5.71\n",
       "4   180 W          6.71\n",
       "5   200 W          9.20\n",
       "6   160 W          6.22\n",
       "7   180 W          5.98\n",
       "8   200 W          7.90\n",
       "9   160 W          6.01\n",
       "10  180 W          5.66\n",
       "11  200 W          8.15\n",
       "12  160 W          5.59\n",
       "13  180 W          6.60\n",
       "14  200 W          7.55"
      ]
     },
     "execution_count": 34,
     "metadata": {},
     "output_type": "execute_result"
    }
   ],
   "source": [
    "data_pw = pd.read_excel (r'C:\\Users\\Elena\\Documents\\IRONHACK\\WEEK7\\LABS\\lab-t-tests-p-values\\files_for_lab\\anova_lab_data.xlsx')\n",
    "data_pw.head(20)"
   ]
  },
  {
   "cell_type": "markdown",
   "id": "executive-merchandise",
   "metadata": {},
   "source": [
    "**STATE THE NULL/ALTERNATE HYPOTHESIS:**\n",
    "\n",
    "h1:changing the power of the plasma beam has any effect on the etching rate by the machine\n",
    "\n",
    "Is the etching affected ( depending on) the different power (W)? Our null hypothesis will set their independecy. \n",
    "\n",
    "We are trying to understand if we can reasonable say that the etchin rate  mean of several powers is  the same\n",
    " * H0: = the means of each etchin rate are the same ( the different power do not affects to the etching rate).INDEPENDENT VARIABLES.\n",
    " \n",
    " * H1: = the means of each etchin rate are different ( the different power affects to the etching rate).DEPENDENT VARIABLES.\n"
   ]
  },
  {
   "cell_type": "markdown",
   "id": "floral-plaintiff",
   "metadata": {},
   "source": [
    "**STATE SIGFNICANT LEVEL:**\n",
    "5%"
   ]
  },
  {
   "cell_type": "markdown",
   "id": "visible-turkey",
   "metadata": {},
   "source": [
    "**What are the degrees of freedom of model, error terms, and total DoF**"
   ]
  },
  {
   "cell_type": "markdown",
   "id": "russian-samuel",
   "metadata": {},
   "source": [
    "## Part 2\n",
    "\n",
    "In this section, use the Python to conduct ANOVA.\n",
    "\n",
    "What conclusions can you draw from the experiment and why?"
   ]
  },
  {
   "cell_type": "code",
   "execution_count": 36,
   "id": "intimate-basement",
   "metadata": {},
   "outputs": [
    {
     "data": {
      "text/html": [
       "<div>\n",
       "<style scoped>\n",
       "    .dataframe tbody tr th:only-of-type {\n",
       "        vertical-align: middle;\n",
       "    }\n",
       "\n",
       "    .dataframe tbody tr th {\n",
       "        vertical-align: top;\n",
       "    }\n",
       "\n",
       "    .dataframe thead th {\n",
       "        text-align: right;\n",
       "    }\n",
       "</style>\n",
       "<table border=\"1\" class=\"dataframe\">\n",
       "  <thead>\n",
       "    <tr style=\"text-align: right;\">\n",
       "      <th></th>\n",
       "      <th>power</th>\n",
       "      <th>etching_rate</th>\n",
       "    </tr>\n",
       "  </thead>\n",
       "  <tbody>\n",
       "    <tr>\n",
       "      <th>0</th>\n",
       "      <td>160 W</td>\n",
       "      <td>5.43</td>\n",
       "    </tr>\n",
       "    <tr>\n",
       "      <th>1</th>\n",
       "      <td>180 W</td>\n",
       "      <td>6.24</td>\n",
       "    </tr>\n",
       "    <tr>\n",
       "      <th>2</th>\n",
       "      <td>200 W</td>\n",
       "      <td>8.79</td>\n",
       "    </tr>\n",
       "    <tr>\n",
       "      <th>3</th>\n",
       "      <td>160 W</td>\n",
       "      <td>5.71</td>\n",
       "    </tr>\n",
       "    <tr>\n",
       "      <th>4</th>\n",
       "      <td>180 W</td>\n",
       "      <td>6.71</td>\n",
       "    </tr>\n",
       "  </tbody>\n",
       "</table>\n",
       "</div>"
      ],
      "text/plain": [
       "   power  etching_rate\n",
       "0  160 W          5.43\n",
       "1  180 W          6.24\n",
       "2  200 W          8.79\n",
       "3  160 W          5.71\n",
       "4  180 W          6.71"
      ]
     },
     "execution_count": 36,
     "metadata": {},
     "output_type": "execute_result"
    }
   ],
   "source": [
    "mapping = {data_pw.columns[0]: 'power', data_pw.columns[1]: 'etching_rate'}\n",
    "machine = data_pw.rename(columns=mapping)\n",
    "machine.head()"
   ]
  },
  {
   "cell_type": "code",
   "execution_count": 37,
   "id": "annoying-stone",
   "metadata": {},
   "outputs": [],
   "source": [
    "machine['power'] = machine['power'].apply(lambda x: x.replace(\"W\", '')).astype({'power':'float64'})"
   ]
  },
  {
   "cell_type": "code",
   "execution_count": 41,
   "id": "persistent-survey",
   "metadata": {},
   "outputs": [
    {
     "data": {
      "text/html": [
       "<div>\n",
       "<style scoped>\n",
       "    .dataframe tbody tr th:only-of-type {\n",
       "        vertical-align: middle;\n",
       "    }\n",
       "\n",
       "    .dataframe tbody tr th {\n",
       "        vertical-align: top;\n",
       "    }\n",
       "\n",
       "    .dataframe thead th {\n",
       "        text-align: right;\n",
       "    }\n",
       "</style>\n",
       "<table border=\"1\" class=\"dataframe\">\n",
       "  <thead>\n",
       "    <tr style=\"text-align: right;\">\n",
       "      <th></th>\n",
       "      <th>power</th>\n",
       "      <th>etching_rate</th>\n",
       "      <th>power_count</th>\n",
       "    </tr>\n",
       "  </thead>\n",
       "  <tbody>\n",
       "    <tr>\n",
       "      <th>0</th>\n",
       "      <td>160.0</td>\n",
       "      <td>5.43</td>\n",
       "      <td>0</td>\n",
       "    </tr>\n",
       "    <tr>\n",
       "      <th>1</th>\n",
       "      <td>180.0</td>\n",
       "      <td>6.24</td>\n",
       "      <td>0</td>\n",
       "    </tr>\n",
       "    <tr>\n",
       "      <th>2</th>\n",
       "      <td>200.0</td>\n",
       "      <td>8.79</td>\n",
       "      <td>0</td>\n",
       "    </tr>\n",
       "    <tr>\n",
       "      <th>3</th>\n",
       "      <td>160.0</td>\n",
       "      <td>5.71</td>\n",
       "      <td>1</td>\n",
       "    </tr>\n",
       "    <tr>\n",
       "      <th>4</th>\n",
       "      <td>180.0</td>\n",
       "      <td>6.71</td>\n",
       "      <td>1</td>\n",
       "    </tr>\n",
       "    <tr>\n",
       "      <th>5</th>\n",
       "      <td>200.0</td>\n",
       "      <td>9.20</td>\n",
       "      <td>1</td>\n",
       "    </tr>\n",
       "    <tr>\n",
       "      <th>6</th>\n",
       "      <td>160.0</td>\n",
       "      <td>6.22</td>\n",
       "      <td>2</td>\n",
       "    </tr>\n",
       "    <tr>\n",
       "      <th>7</th>\n",
       "      <td>180.0</td>\n",
       "      <td>5.98</td>\n",
       "      <td>2</td>\n",
       "    </tr>\n",
       "    <tr>\n",
       "      <th>8</th>\n",
       "      <td>200.0</td>\n",
       "      <td>7.90</td>\n",
       "      <td>2</td>\n",
       "    </tr>\n",
       "    <tr>\n",
       "      <th>9</th>\n",
       "      <td>160.0</td>\n",
       "      <td>6.01</td>\n",
       "      <td>3</td>\n",
       "    </tr>\n",
       "    <tr>\n",
       "      <th>10</th>\n",
       "      <td>180.0</td>\n",
       "      <td>5.66</td>\n",
       "      <td>3</td>\n",
       "    </tr>\n",
       "    <tr>\n",
       "      <th>11</th>\n",
       "      <td>200.0</td>\n",
       "      <td>8.15</td>\n",
       "      <td>3</td>\n",
       "    </tr>\n",
       "    <tr>\n",
       "      <th>12</th>\n",
       "      <td>160.0</td>\n",
       "      <td>5.59</td>\n",
       "      <td>4</td>\n",
       "    </tr>\n",
       "    <tr>\n",
       "      <th>13</th>\n",
       "      <td>180.0</td>\n",
       "      <td>6.60</td>\n",
       "      <td>4</td>\n",
       "    </tr>\n",
       "    <tr>\n",
       "      <th>14</th>\n",
       "      <td>200.0</td>\n",
       "      <td>7.55</td>\n",
       "      <td>4</td>\n",
       "    </tr>\n",
       "  </tbody>\n",
       "</table>\n",
       "</div>"
      ],
      "text/plain": [
       "    power  etching_rate  power_count\n",
       "0   160.0          5.43            0\n",
       "1   180.0          6.24            0\n",
       "2   200.0          8.79            0\n",
       "3   160.0          5.71            1\n",
       "4   180.0          6.71            1\n",
       "5   200.0          9.20            1\n",
       "6   160.0          6.22            2\n",
       "7   180.0          5.98            2\n",
       "8   200.0          7.90            2\n",
       "9   160.0          6.01            3\n",
       "10  180.0          5.66            3\n",
       "11  200.0          8.15            3\n",
       "12  160.0          5.59            4\n",
       "13  180.0          6.60            4\n",
       "14  200.0          7.55            4"
      ]
     },
     "execution_count": 41,
     "metadata": {},
     "output_type": "execute_result"
    }
   ],
   "source": [
    "machine"
   ]
  },
  {
   "cell_type": "code",
   "execution_count": 42,
   "id": "neural-wrong",
   "metadata": {},
   "outputs": [],
   "source": [
    "machine['power_count'] = machine.groupby('power').cumcount() ##is the new index "
   ]
  },
  {
   "cell_type": "code",
   "execution_count": 40,
   "id": "opened-channels",
   "metadata": {},
   "outputs": [],
   "source": [
    "import numpy as np"
   ]
  },
  {
   "cell_type": "code",
   "execution_count": 46,
   "id": "intelligent-reverse",
   "metadata": {},
   "outputs": [
    {
     "data": {
      "text/html": [
       "<div>\n",
       "<style scoped>\n",
       "    .dataframe tbody tr th:only-of-type {\n",
       "        vertical-align: middle;\n",
       "    }\n",
       "\n",
       "    .dataframe tbody tr th {\n",
       "        vertical-align: top;\n",
       "    }\n",
       "\n",
       "    .dataframe thead th {\n",
       "        text-align: right;\n",
       "    }\n",
       "</style>\n",
       "<table border=\"1\" class=\"dataframe\">\n",
       "  <thead>\n",
       "    <tr style=\"text-align: right;\">\n",
       "      <th></th>\n",
       "      <th>Power_count160.0</th>\n",
       "      <th>Power_count180.0</th>\n",
       "      <th>Power_count200.0</th>\n",
       "    </tr>\n",
       "    <tr>\n",
       "      <th>power_count</th>\n",
       "      <th></th>\n",
       "      <th></th>\n",
       "      <th></th>\n",
       "    </tr>\n",
       "  </thead>\n",
       "  <tbody>\n",
       "    <tr>\n",
       "      <th>0</th>\n",
       "      <td>5.43</td>\n",
       "      <td>6.24</td>\n",
       "      <td>8.79</td>\n",
       "    </tr>\n",
       "    <tr>\n",
       "      <th>1</th>\n",
       "      <td>5.71</td>\n",
       "      <td>6.71</td>\n",
       "      <td>9.20</td>\n",
       "    </tr>\n",
       "    <tr>\n",
       "      <th>2</th>\n",
       "      <td>6.22</td>\n",
       "      <td>5.98</td>\n",
       "      <td>7.90</td>\n",
       "    </tr>\n",
       "    <tr>\n",
       "      <th>3</th>\n",
       "      <td>6.01</td>\n",
       "      <td>5.66</td>\n",
       "      <td>8.15</td>\n",
       "    </tr>\n",
       "    <tr>\n",
       "      <th>4</th>\n",
       "      <td>5.59</td>\n",
       "      <td>6.60</td>\n",
       "      <td>7.55</td>\n",
       "    </tr>\n",
       "  </tbody>\n",
       "</table>\n",
       "</div>"
      ],
      "text/plain": [
       "             Power_count160.0  Power_count180.0  Power_count200.0\n",
       "power_count                                                      \n",
       "0                        5.43              6.24              8.79\n",
       "1                        5.71              6.71              9.20\n",
       "2                        6.22              5.98              7.90\n",
       "3                        6.01              5.66              8.15\n",
       "4                        5.59              6.60              7.55"
      ]
     },
     "execution_count": 46,
     "metadata": {},
     "output_type": "execute_result"
    }
   ],
   "source": [
    "machine_pivot = machine.pivot(index='power_count', columns='power', values='etching_rate')\n",
    "machine_pivot.columns = ['Power_count'+str(x) for x in machine_pivot.columns.values]\n",
    "machine_pivot.head()"
   ]
  },
  {
   "cell_type": "code",
   "execution_count": 49,
   "id": "acquired-collar",
   "metadata": {},
   "outputs": [
    {
     "data": {
      "text/plain": [
       "F_onewayResult(statistic=36.87895470100505, pvalue=7.506584272358903e-06)"
      ]
     },
     "execution_count": 49,
     "metadata": {},
     "output_type": "execute_result"
    }
   ],
   "source": [
    "\n",
    "st.f_oneway(machine_pivot['Power_count160.0'],machine_pivot['Power_count180.0'],machine_pivot['Power_count200.0'])\n",
    "# f_oneway is the ANOVA (ST call it like that)"
   ]
  },
  {
   "cell_type": "markdown",
   "id": "ethical-avenue",
   "metadata": {},
   "source": [
    "**Result: changing the power of the plasma beam does have an effect on the etching rate by the machine!**"
   ]
  },
  {
   "cell_type": "code",
   "execution_count": null,
   "id": "plain-import",
   "metadata": {},
   "outputs": [],
   "source": []
  }
 ],
 "metadata": {
  "kernelspec": {
   "display_name": "Python 3",
   "language": "python",
   "name": "python3"
  },
  "language_info": {
   "codemirror_mode": {
    "name": "ipython",
    "version": 3
   },
   "file_extension": ".py",
   "mimetype": "text/x-python",
   "name": "python",
   "nbconvert_exporter": "python",
   "pygments_lexer": "ipython3",
   "version": "3.7.10"
  }
 },
 "nbformat": 4,
 "nbformat_minor": 5
}
